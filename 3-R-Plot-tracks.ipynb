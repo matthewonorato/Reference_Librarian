{
 "cells": [
  {
   "cell_type": "markdown",
   "id": "d76d8243-150c-4393-a5b4-c14d634fb2da",
   "metadata": {
    "editable": true,
    "slideshow": {
     "slide_type": ""
    },
    "tags": []
   },
   "source": [
    "# Goals\n",
    "**[Script]** Plot genomic tracks using [gggenomes](https://thackl.github.io/gggenomes/articles/gggenomes.html)\n",
    "\n",
    "**[Overall]** This is a quick and efficient way to compare features (genes, transcripts, exons, or CDSs) across multiple references, simply by providing a list of genes or transcripts, or a specified region\n",
    "\n",
    "**[To Do]**\n",
    "1. Add plot for multiple features (ex. CDS + UTRs)\n",
    "2. Add sequence comparison with `seqkit` (clustalo section) + `ggmsa`\n",
    "    - Ex: ZXDC has the same length across all three human refs, but the sequence is different in RefSeq T2T\n",
    "4. Try **[pyGenomeViz](https://github.com/moshi4/pyGenomeViz):** Python package like `gggenomes` (Genbank/GFF format, streamlit app, can align/BLAST)"
   ]
  },
  {
   "cell_type": "markdown",
   "id": "8004185d-21ac-4567-bc9f-07cbfe45b2b9",
   "metadata": {},
   "source": [
    "# Packages"
   ]
  },
  {
   "cell_type": "code",
   "execution_count": 2,
   "id": "32235ccc-cad9-4417-8933-7543d947bb17",
   "metadata": {
    "scrolled": true
   },
   "outputs": [],
   "source": [
    "#####################\n",
    "### Data Cleaning ###\n",
    "#####################\n",
    "library(\"data.table\")\n",
    "library(\"janitor\")\n",
    "library(\"rlang\")\n",
    "\n",
    "###########\n",
    "### Viz ###\n",
    "###########\n",
    "library(\"tidyverse\")\n",
    "library(\"paletteer\")\n",
    "library(\"gggenomes\")\n",
    "\n",
    "####################\n",
    "### Session Info ###\n",
    "####################\n",
    "library(\"sessioninfo\")"
   ]
  },
  {
   "cell_type": "markdown",
   "id": "8f8f80d3-1117-4416-b105-8ea6639a1980",
   "metadata": {},
   "source": [
    "## Options"
   ]
  },
  {
   "cell_type": "code",
   "execution_count": null,
   "id": "ee7d76ec-8b90-496a-a839-f0a5ce4f9606",
   "metadata": {},
   "outputs": [],
   "source": [
    "options(warn = 1)\n",
    "options(repr.matrix.max.cols=200, repr.matrix.max.rows=200)\n",
    "\n",
    "theme_set(theme_bw(base_size=18, base_family=\"sans\"))"
   ]
  },
  {
   "cell_type": "markdown",
   "id": "d6ee2727-8fd0-4681-abc3-e22b563cf929",
   "metadata": {},
   "source": [
    "## Functions"
   ]
  },
  {
   "cell_type": "code",
   "execution_count": null,
   "id": "ea715c1a-8eb3-4e5f-aa4d-c9aa7cc2fd33",
   "metadata": {},
   "outputs": [],
   "source": [
    "source(\"./References.R\")"
   ]
  },
  {
   "cell_type": "markdown",
   "id": "a575b594-33f6-46cf-844c-1a05fb0e7f81",
   "metadata": {},
   "source": [
    "# Parameters"
   ]
  },
  {
   "cell_type": "markdown",
   "id": "c2f1d4cb-b53d-49c1-a044-55bc73934c11",
   "metadata": {},
   "source": [
    "## Inputs"
   ]
  },
  {
   "cell_type": "code",
   "execution_count": null,
   "id": "ba3a3874-5afa-4ae4-9b97-86b897e02ce9",
   "metadata": {},
   "outputs": [],
   "source": [
    "species = \"Homo_sapiens\"  # Genus_species or species1_and_species2\n",
    "primary_chr = as.character(c(1:22,\"X\",\"Y\"))\n",
    "output_path = file.path(\"../outputs\", species)\n",
    "\n",
    "ref_names = c(\"Ensembl GRCh38\",\"RefSeq GRCh38\",\"RefSeq T2T\")  # Order in all plots\n",
    "ref_colors = c(\"#008080\",\"#DAA520\",\"#6A5ACD\")  # teal, goldenrod, slateblue (purplish)"
   ]
  },
  {
   "cell_type": "markdown",
   "id": "4f416f61-4173-41fe-ade8-ec18796a7c8a",
   "metadata": {},
   "source": [
    "## Outputs"
   ]
  },
  {
   "cell_type": "code",
   "execution_count": null,
   "id": "f2ee8a5c-0a3a-47e6-b96e-ebace9f3601c",
   "metadata": {},
   "outputs": [],
   "source": [
    "track_path = file.path(\"../results/plots\", species, \"specific_tracks\")\n",
    "dir.create(track_path, recursive=TRUE, showWarnings=FALSE)"
   ]
  },
  {
   "cell_type": "markdown",
   "id": "90324b49-a386-4501-b379-2e747de70213",
   "metadata": {},
   "source": [
    "# Plot track by gene name\n",
    "- **Note:** If gene name is missing from a reference, check synonyms"
   ]
  },
  {
   "cell_type": "code",
   "execution_count": null,
   "id": "8f644f86-7fd7-45fb-b028-5d570f7dab41",
   "metadata": {},
   "outputs": [],
   "source": [
    "gene_ann_paths = get_paths(ref_names, file_id=\"gene.sorted.tsv\", ref_path=output_path)\n",
    "df_gene = concat_files(gene_ann_paths, ref_names, ref_colors, to_chr=primary_chr)\n",
    "\n",
    "fig_gene_name = plot_track(\n",
    "    df_gene,\n",
    "    refs_to_plot = ref_names,\n",
    "    feats_to_plot = c(\"ADARB2\", \"AFF2\", \"AFF3\"),\n",
    "    feat_type = \"gene_name\",\n",
    "    plot_path = track_path,\n",
    "    color = \"basetheme::deepblue\",\n",
    "    show_track_info = FALSE,\n",
    "    w = 6, h = 8, v = 1.25\n",
    ")\n",
    "\n",
    "IRdisplay::display_html(paste0(\"<img src=\",fig_gene_name$path, \">\"))"
   ]
  },
  {
   "cell_type": "markdown",
   "id": "3aed2a8e-9a65-4186-b74e-122e7b39a576",
   "metadata": {},
   "source": [
    "# Plot track by genomic region"
   ]
  },
  {
   "cell_type": "code",
   "execution_count": null,
   "id": "067b67a3-a1e2-46d8-84a1-144f68664b37",
   "metadata": {},
   "outputs": [],
   "source": [
    "fig_region = plot_track(\n",
    "    df_gene,\n",
    "    refs_to_plot = c(\"RefSeq T2T\"),\n",
    "    feats_to_plot = c(\"19:47600000-47750000\"),\n",
    "    feat_type = \"region\",\n",
    "    plot_path = track_path,\n",
    "    color = \"basetheme::deepblue\",\n",
    "    show_track_info = FALSE,\n",
    "    w = 6, h = 2.5, v = 1.25)\n",
    "\n",
    "IRdisplay::display_html(paste0(\"<img src=\",fig_region$path, \">\"))"
   ]
  },
  {
   "cell_type": "markdown",
   "id": "4a647e17-3e55-4ae0-b79b-8493a5c4c272",
   "metadata": {},
   "source": [
    "# Plot track for specific feature"
   ]
  },
  {
   "cell_type": "markdown",
   "id": "0561c639-aea3-45f7-94cd-fca24c1e5386",
   "metadata": {},
   "source": [
    "## Transcripts by gene name"
   ]
  },
  {
   "cell_type": "code",
   "execution_count": null,
   "id": "1f0e969f-6d76-4562-907a-52a04ec58769",
   "metadata": {},
   "outputs": [],
   "source": [
    "tx_ann_paths = get_paths(ref_names, file_id=\"transcript.sorted.tsv\", ref_path=output_path)\n",
    "df_tx = concat_files(tx_ann_paths, ref_names, ref_colors, to_chr=primary_chr)\n",
    "\n",
    "fig_transcripts = plot_track(\n",
    "    df_tx,\n",
    "    refs_to_plot = c(\"RefSeq T2T\"),\n",
    "    feats_to_plot = c(\"APOE\"),\n",
    "    feat_type = \"transcript_id\",\n",
    "    plot_path = track_path,\n",
    "    color = \"basetheme::deepblue\",\n",
    "    show_track_info = FALSE,\n",
    "    w = 6, h = 5, v = 1.25)\n",
    "\n",
    "IRdisplay::display_html(paste0(\"<img src=\",fig_transcripts$path, \">\"))"
   ]
  },
  {
   "cell_type": "markdown",
   "id": "125e4cb3-401c-44bf-935b-077b72ccbf8c",
   "metadata": {},
   "source": [
    "## Exons by transcript name"
   ]
  },
  {
   "cell_type": "code",
   "execution_count": null,
   "id": "abac285d-86a8-4984-8df0-4add64502206",
   "metadata": {},
   "outputs": [],
   "source": [
    "exon_ann_paths = get_paths(ref_names, file_id=\"exon.sorted.tsv\", ref_path=output_path)\n",
    "df_exon = concat_files(exon_ann_paths, ref_names, ref_colors, to_chr=primary_chr)\n",
    "\n",
    "fig_exons = plot_track(\n",
    "    df_exon,\n",
    "    refs_to_plot = ref_names,\n",
    "    feats_to_plot = c(\"ENST00000252486\", \"NM_000041.4\"),\n",
    "    feat_type = \"exon\",\n",
    "    plot_path = track_path,\n",
    "    color = \"basetheme::deepblue\",\n",
    "    show_track_info = FALSE,\n",
    "    w = 6.5, h = 3, v = 1.25)\n",
    "\n",
    "IRdisplay::display_html(paste0(\"<img src=\",fig_exons$path, \">\"))"
   ]
  },
  {
   "cell_type": "markdown",
   "id": "0298a0f4-7c2a-41f1-88a4-dabad05d63ee",
   "metadata": {},
   "source": [
    "## CDS by transcript name"
   ]
  },
  {
   "cell_type": "code",
   "execution_count": null,
   "id": "c4470561-7991-408c-afb0-738635a437e5",
   "metadata": {},
   "outputs": [],
   "source": [
    "cds_ann_paths = get_paths(ref_names, file_id=\"cds.sorted.tsv\", ref_path=output_path)\n",
    "df_cds = concat_files(cds_ann_paths, ref_names, ref_colors, to_chr=primary_chr)\n",
    "\n",
    "fig_cds = plot_track(\n",
    "    df_cds,\n",
    "    refs_to_plot = ref_names,\n",
    "    feats_to_plot = c(\"ENST00000252486\", \"NM_000041.4\"),\n",
    "    feat_type = \"cds\",\n",
    "    plot_path = track_path,\n",
    "    color = \"basetheme::deepblue\",\n",
    "    show_track_info = FALSE,\n",
    "    w = 6.5, h = 3, v = 1.25)\n",
    "\n",
    "IRdisplay::display_html(paste0(\"<img src=\",fig_cds$path, \">\"))"
   ]
  },
  {
   "cell_type": "markdown",
   "id": "7d96a8fc-a150-416e-99ad-59874dfaff25",
   "metadata": {},
   "source": [
    "# Session info"
   ]
  },
  {
   "cell_type": "code",
   "execution_count": 3,
   "id": "6f1639c1-f5ae-48c0-ac50-d9b74e917c6e",
   "metadata": {},
   "outputs": [
    {
     "data": {
      "text/html": [
       "<table class=\"dataframe\">\n",
       "<caption>A tibble: 1 × 4</caption>\n",
       "<thead>\n",
       "\t<tr><th scope=col>version</th><th scope=col>os</th><th scope=col>system</th><th scope=col>date</th></tr>\n",
       "\t<tr><th scope=col>&lt;chr&gt;</th><th scope=col>&lt;chr&gt;</th><th scope=col>&lt;chr&gt;</th><th scope=col>&lt;chr&gt;</th></tr>\n",
       "</thead>\n",
       "<tbody>\n",
       "\t<tr><td>R version 4.4.0 (2024-04-24)</td><td>Ubuntu 22.04.4 LTS</td><td>x86_64, linux-gnu</td><td>2025-08-11</td></tr>\n",
       "</tbody>\n",
       "</table>\n"
      ],
      "text/latex": [
       "A tibble: 1 × 4\n",
       "\\begin{tabular}{llll}\n",
       " version & os & system & date\\\\\n",
       " <chr> & <chr> & <chr> & <chr>\\\\\n",
       "\\hline\n",
       "\t R version 4.4.0 (2024-04-24) & Ubuntu 22.04.4 LTS & x86\\_64, linux-gnu & 2025-08-11\\\\\n",
       "\\end{tabular}\n"
      ],
      "text/markdown": [
       "\n",
       "A tibble: 1 × 4\n",
       "\n",
       "| version &lt;chr&gt; | os &lt;chr&gt; | system &lt;chr&gt; | date &lt;chr&gt; |\n",
       "|---|---|---|---|\n",
       "| R version 4.4.0 (2024-04-24) | Ubuntu 22.04.4 LTS | x86_64, linux-gnu | 2025-08-11 |\n",
       "\n"
      ],
      "text/plain": [
       "  version                      os                 system            date      \n",
       "1 R version 4.4.0 (2024-04-24) Ubuntu 22.04.4 LTS x86_64, linux-gnu 2025-08-11"
      ]
     },
     "metadata": {},
     "output_type": "display_data"
    },
    {
     "data": {
      "text/html": [
       "<table class=\"dataframe\">\n",
       "<caption>A tibble: 16 × 2</caption>\n",
       "<thead>\n",
       "\t<tr><th scope=col>package</th><th scope=col>loadedversion</th></tr>\n",
       "\t<tr><th scope=col>&lt;chr&gt;</th><th scope=col>&lt;chr&gt;</th></tr>\n",
       "</thead>\n",
       "<tbody>\n",
       "\t<tr><td>data.table </td><td>1.15.0</td></tr>\n",
       "\t<tr><td>dplyr      </td><td>1.1.4 </td></tr>\n",
       "\t<tr><td>forcats    </td><td>1.0.0 </td></tr>\n",
       "\t<tr><td>gggenomes  </td><td>1.0.1 </td></tr>\n",
       "\t<tr><td>ggplot2    </td><td>3.5.1 </td></tr>\n",
       "\t<tr><td>janitor    </td><td>2.2.0 </td></tr>\n",
       "\t<tr><td>lubridate  </td><td>1.9.3 </td></tr>\n",
       "\t<tr><td>paletteer  </td><td>1.6.0 </td></tr>\n",
       "\t<tr><td>purrr      </td><td>1.0.2 </td></tr>\n",
       "\t<tr><td>readr      </td><td>2.1.5 </td></tr>\n",
       "\t<tr><td>rlang      </td><td>1.1.5 </td></tr>\n",
       "\t<tr><td>sessioninfo</td><td>1.2.3 </td></tr>\n",
       "\t<tr><td>stringr    </td><td>1.5.1 </td></tr>\n",
       "\t<tr><td>tibble     </td><td>3.2.1 </td></tr>\n",
       "\t<tr><td>tidyr      </td><td>1.3.1 </td></tr>\n",
       "\t<tr><td>tidyverse  </td><td>2.0.0 </td></tr>\n",
       "</tbody>\n",
       "</table>\n"
      ],
      "text/latex": [
       "A tibble: 16 × 2\n",
       "\\begin{tabular}{ll}\n",
       " package & loadedversion\\\\\n",
       " <chr> & <chr>\\\\\n",
       "\\hline\n",
       "\t data.table  & 1.15.0\\\\\n",
       "\t dplyr       & 1.1.4 \\\\\n",
       "\t forcats     & 1.0.0 \\\\\n",
       "\t gggenomes   & 1.0.1 \\\\\n",
       "\t ggplot2     & 3.5.1 \\\\\n",
       "\t janitor     & 2.2.0 \\\\\n",
       "\t lubridate   & 1.9.3 \\\\\n",
       "\t paletteer   & 1.6.0 \\\\\n",
       "\t purrr       & 1.0.2 \\\\\n",
       "\t readr       & 2.1.5 \\\\\n",
       "\t rlang       & 1.1.5 \\\\\n",
       "\t sessioninfo & 1.2.3 \\\\\n",
       "\t stringr     & 1.5.1 \\\\\n",
       "\t tibble      & 3.2.1 \\\\\n",
       "\t tidyr       & 1.3.1 \\\\\n",
       "\t tidyverse   & 2.0.0 \\\\\n",
       "\\end{tabular}\n"
      ],
      "text/markdown": [
       "\n",
       "A tibble: 16 × 2\n",
       "\n",
       "| package &lt;chr&gt; | loadedversion &lt;chr&gt; |\n",
       "|---|---|\n",
       "| data.table  | 1.15.0 |\n",
       "| dplyr       | 1.1.4  |\n",
       "| forcats     | 1.0.0  |\n",
       "| gggenomes   | 1.0.1  |\n",
       "| ggplot2     | 3.5.1  |\n",
       "| janitor     | 2.2.0  |\n",
       "| lubridate   | 1.9.3  |\n",
       "| paletteer   | 1.6.0  |\n",
       "| purrr       | 1.0.2  |\n",
       "| readr       | 2.1.5  |\n",
       "| rlang       | 1.1.5  |\n",
       "| sessioninfo | 1.2.3  |\n",
       "| stringr     | 1.5.1  |\n",
       "| tibble      | 3.2.1  |\n",
       "| tidyr       | 1.3.1  |\n",
       "| tidyverse   | 2.0.0  |\n",
       "\n"
      ],
      "text/plain": [
       "   package     loadedversion\n",
       "1  data.table  1.15.0       \n",
       "2  dplyr       1.1.4        \n",
       "3  forcats     1.0.0        \n",
       "4  gggenomes   1.0.1        \n",
       "5  ggplot2     3.5.1        \n",
       "6  janitor     2.2.0        \n",
       "7  lubridate   1.9.3        \n",
       "8  paletteer   1.6.0        \n",
       "9  purrr       1.0.2        \n",
       "10 readr       2.1.5        \n",
       "11 rlang       1.1.5        \n",
       "12 sessioninfo 1.2.3        \n",
       "13 stringr     1.5.1        \n",
       "14 tibble      3.2.1        \n",
       "15 tidyr       1.3.1        \n",
       "16 tidyverse   2.0.0        "
      ]
     },
     "metadata": {},
     "output_type": "display_data"
    }
   ],
   "source": [
    "si = session_info(pkg=\"attached\", to_file=FALSE)\n",
    "as_tibble(si$platform) %>% select(version, os, system, date)\n",
    "as_tibble(si$packages) %>% select(package, loadedversion)"
   ]
  }
 ],
 "metadata": {
  "kernelspec": {
   "display_name": "R 4.4",
   "language": "R",
   "name": "r-4.4"
  },
  "language_info": {
   "codemirror_mode": "r",
   "file_extension": ".r",
   "mimetype": "text/x-r-source",
   "name": "R",
   "pygments_lexer": "r",
   "version": "4.4.0"
  }
 },
 "nbformat": 4,
 "nbformat_minor": 5
}
