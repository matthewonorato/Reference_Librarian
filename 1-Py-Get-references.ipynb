{
 "cells": [
  {
   "cell_type": "markdown",
   "metadata": {},
   "source": [
    "# Goals\n",
    "**[Script]** This script downloads reference files (FASTA and GTF files), creates other important files (annotation, BED, and index files), and adds them to a master file containg all references for all species\n",
    "\n",
    "**[Standardizing Genomes](https://www.biostars.org/p/342482/) // [Advantage of T2T](https://www.biostars.org/p/9560818/#9560866) // [Advantage of Pangenome (HPRC)](https://www.biostars.org/p/9563810/)**\n",
    "- T2T-CHM13: More accurate (esp. SV) vs. GRCh38: More annotations (ex. UCSC tracks)\n",
    "    - T2T-CHM13 (vs. GRCh38): No gaps, adds nearly 200M bps (+4.5%), corrects thousands of structural errors and spurious SNVs, and increases the number of annotated genes from 60,090 to 63,494\n",
    "\n",
    "**Contig->Scaffold->Chr ([Ensembl](https://useast.ensembl.org/info/genome/genebuild/chromosomes_scaffolds_contigs.html), [RefSeq](https://www.ncbi.nlm.nih.gov/datasets/docs/v2/glossary/))**\n",
    "- **YES:** unlocalized/unplaced scaffolds (UNL/UNP; no coordinates)\n",
    "    - [STAR manual](https://github.com/alexdobin/STAR/blob/master/doc/STARmanual.pdf) says to include primaries, MT, UNP, and UNL (no patches or ALT)\n",
    "        - UNP/UNL scaffolds only add 1-10M bp and can accurately map reads (ex. to rRNA repeats on UNPs)\n",
    "- **NO:** patches (sequence updates), placed scaffolds (already in chr.), *alternate loci (maybe)*\n",
    "    - Patches effect alignment and variant calling due to sequence redundancy ([RefSeq](https://www.ncbi.nlm.nih.gov/grc/help/patches/))\n",
    "\n",
    "**[Additional Genome Databases]**\n",
    "1. **Need a unique genome?** [UCSC Public Hubs / GenArk](https://genome.ucsc.edu/cgi-bin/hgHubConnect) hosts external sources containing exotic genomes\n",
    "2. **Need a different file?** See [UCSC's Table Browser](https://genome.ucsc.edu/cgi-bin/hgTables?command=start)\n",
    "\n",
    "**[To Do]**\n",
    "1. Download pangenomes and compare to canonical references\n",
    "2. Add md5 checks for reference files (see `check_sums` in References.py, ex. [T2T](https://s3-us-west-2.amazonaws.com/human-pangenomics/T2T/CHM13/assemblies/analysis_set/README.txt))\n",
    "3. Add option to create annotation and BED files with all sequences (MT, UNP, UNL, ALT, PATCH), not just primaries"
   ]
  },
  {
   "cell_type": "markdown",
   "metadata": {},
   "source": [
    "# Packages"
   ]
  },
  {
   "cell_type": "code",
   "execution_count": 2,
   "metadata": {},
   "outputs": [],
   "source": [
    "#########################\n",
    "### Standard Library ####\n",
    "#########################\n",
    "import os\n",
    "import json\n",
    "from glob import glob\n",
    "import warnings\n",
    "import requests\n",
    "import subprocess\n",
    "\n",
    "#####################\n",
    "### Data Cleaning ###\n",
    "#####################\n",
    "import gtfparse\n",
    "import numpy as np\n",
    "import pandas as pd\n",
    "import janitor as jn\n",
    "import VinlandPy as vp\n",
    "from IPython.display import Markdown, display\n",
    "from configparser import ConfigParser, ExtendedInterpolation\n",
    "\n",
    "####################\n",
    "### Session Info ###\n",
    "####################\n",
    "import session_info"
   ]
  },
  {
   "cell_type": "markdown",
   "metadata": {},
   "source": [
    "## Options"
   ]
  },
  {
   "cell_type": "code",
   "execution_count": null,
   "metadata": {},
   "outputs": [],
   "source": [
    "warnings.simplefilter(action=\"once\", category=Warning)\n",
    "\n",
    "pd.set_option(\"display.max_rows\", 50)\n",
    "pd.set_option(\"display.max_columns\", None)\n",
    "pd.set_option(\"display.max_colwidth\", 60)"
   ]
  },
  {
   "cell_type": "markdown",
   "metadata": {},
   "source": [
    "## Functions"
   ]
  },
  {
   "cell_type": "code",
   "execution_count": null,
   "metadata": {},
   "outputs": [],
   "source": [
    "with open(\"./References.py\") as functions:\n",
    "    exec(functions.read())"
   ]
  },
  {
   "cell_type": "markdown",
   "metadata": {},
   "source": [
    "# Parameters"
   ]
  },
  {
   "cell_type": "markdown",
   "metadata": {},
   "source": [
    "## Inputs"
   ]
  },
  {
   "cell_type": "code",
   "execution_count": null,
   "metadata": {},
   "outputs": [],
   "source": [
    "cfg = vp.load_config(\"RefSeq_GRCh38.cfg\", show_variables=False)\n",
    "globals().update(cfg)  # Cleaner syntax\n",
    "\n",
    "n_threads = vp.set_threads()\n",
    "n_threads"
   ]
  },
  {
   "cell_type": "markdown",
   "metadata": {},
   "source": [
    "## Outputs"
   ]
  },
  {
   "cell_type": "code",
   "execution_count": null,
   "metadata": {},
   "outputs": [],
   "source": [
    "vp.create_dir(PATH_TO_NEW_REFERENCE, show_print=False)  # Path formatted as {species}/{source}/{release}/"
   ]
  },
  {
   "cell_type": "markdown",
   "metadata": {},
   "source": [
    "# Get URLs"
   ]
  },
  {
   "cell_type": "code",
   "execution_count": null,
   "metadata": {},
   "outputs": [],
   "source": [
    "url_dict = get_urls(source, species, release, file_type, readme_file, release_type=\"older\")"
   ]
  },
  {
   "cell_type": "markdown",
   "metadata": {},
   "source": [
    "# Download files\n",
    "- **Ensembl and RefSeq:** GTF, genome, CDS, and protein FASTA files\n",
    "- **Ensembl only:** cDNA, ncRNA, map files (ex. Ensembl-RefSeq IDs)\n",
    "- **RefSeq only:** mRNA, pRNA, and coding proteins"
   ]
  },
  {
   "cell_type": "code",
   "execution_count": null,
   "metadata": {},
   "outputs": [],
   "source": [
    "file_dict = download_files(source, url_dict)"
   ]
  },
  {
   "cell_type": "markdown",
   "metadata": {},
   "source": [
    "## [RefSeq only] Download primaries\n",
    "- **Why?** RefSeq genomes contain patches and alternative chromosomes, which in turn contain duplicate sequences to those found in the primary chromosomes. These should be removed, since they will negatively impact alignment via multi-mapping."
   ]
  },
  {
   "cell_type": "code",
   "execution_count": null,
   "metadata": {},
   "outputs": [],
   "source": [
    "download_primary_assemblies(url_dict, file_dict, delete_temp_folder=True, overwrite_file=False)"
   ]
  },
  {
   "cell_type": "markdown",
   "metadata": {},
   "source": [
    "# Create annotation files"
   ]
  },
  {
   "cell_type": "code",
   "execution_count": null,
   "metadata": {},
   "outputs": [],
   "source": [
    "ann_dict = create_anno_files(file_dict, ann_type, overwrite_files=False)"
   ]
  },
  {
   "cell_type": "markdown",
   "metadata": {},
   "source": [
    "# Create BED files"
   ]
  },
  {
   "cell_type": "code",
   "execution_count": null,
   "metadata": {},
   "outputs": [],
   "source": [
    "bed_dict = create_bed_files(file_dict, ann_dict, bed_type, overwrite_files=False)"
   ]
  },
  {
   "cell_type": "markdown",
   "metadata": {},
   "source": [
    "## Create FASTA from BED file"
   ]
  },
  {
   "cell_type": "code",
   "execution_count": null,
   "metadata": {},
   "outputs": [],
   "source": [
    "fasta_dict = get_fasta_from_bed(file_dict, bed_dict, \"gene\", n_threads, overwrite_file=False)"
   ]
  },
  {
   "cell_type": "markdown",
   "metadata": {},
   "source": [
    "# Get FASTA stats"
   ]
  },
  {
   "cell_type": "code",
   "execution_count": null,
   "metadata": {},
   "outputs": [],
   "source": [
    "stats_path = get_fasta_stats({**file_dict, **fasta_dict}, n_threads, overwrite_file=False)"
   ]
  },
  {
   "cell_type": "markdown",
   "metadata": {},
   "source": [
    "# Create indexes\n",
    "- **[Slow steps]** Indexing for STAR and bowtie\n",
    "- **[Large files]** STAR index files (ex. Ensembl's GRCh38 is 27G)"
   ]
  },
  {
   "cell_type": "code",
   "execution_count": null,
   "metadata": {},
   "outputs": [],
   "source": [
    "idx_dict = create_indexes({**file_dict, **fasta_dict}, idx_type, overwrite_files=False)"
   ]
  },
  {
   "cell_type": "markdown",
   "metadata": {},
   "source": [
    "# Create references.json\n",
    "- If `new_file_url` and `new_ref_key` are provided, this function will download a single, specified file and add it to the master reference file"
   ]
  },
  {
   "cell_type": "code",
   "execution_count": null,
   "metadata": {},
   "outputs": [],
   "source": [
    "ref = add_ref_to_master_file({**file_dict,**fasta_dict,**ann_dict,**bed_dict,**idx_dict}, species)\n",
    "ref[f\"{species}\"]"
   ]
  },
  {
   "cell_type": "markdown",
   "metadata": {},
   "source": [
    "# Session info"
   ]
  },
  {
   "cell_type": "code",
   "execution_count": 3,
   "metadata": {},
   "outputs": [
    {
     "data": {
      "text/html": [
       "<details>\n",
       "<summary>Click to view session information</summary>\n",
       "<pre>\n",
       "-----\n",
       "VinlandPy           NA\n",
       "gtfparse            2.5.0\n",
       "janitor             0.27.0\n",
       "numpy               1.26.4\n",
       "pandas              2.2.2\n",
       "requests            2.32.3\n",
       "session_info        1.0.0\n",
       "-----\n",
       "IPython             8.25.0\n",
       "jupyter_client      8.6.2\n",
       "jupyter_core        5.5.0\n",
       "jupyterlab          4.2.2\n",
       "-----\n",
       "Python 3.12.3 | packaged by Anaconda, Inc. | (main, May  6 2024, 19:46:43) [GCC 11.2.0]\n",
       "Linux-6.8.0-1033-gcp-x86_64-with-glibc2.35\n",
       "-----\n",
       "Session information updated at 2025-08-11 21:42\n",
       "</pre>\n",
       "</details>"
      ],
      "text/plain": [
       "<IPython.core.display.HTML object>"
      ]
     },
     "execution_count": 3,
     "metadata": {},
     "output_type": "execute_result"
    }
   ],
   "source": [
    "session_info.show(os=True, std_lib=False, dependencies=False)"
   ]
  },
  {
   "cell_type": "code",
   "execution_count": 4,
   "metadata": {},
   "outputs": [
    {
     "name": "stdout",
     "output_type": "stream",
     "text": [
      "-----\n",
      "bedtools    2.31.1\n",
      "bedparse    0.2.3\n",
      "seqkit      2.9.0\n",
      "samtools    1.20\n",
      "bowtie      1.3.1\n",
      "STAR        2.7.11b\n",
      "RSEM        1.3.3\n",
      "salmon      0.14.1\n",
      "-----\n"
     ]
    }
   ],
   "source": [
    "print((\"\\n\").join([\"-----\", \"bedtools    2.31.1\", \"bedparse    0.2.3\", \"seqkit      2.9.0\", \"samtools    1.20\", \"bowtie      1.3.1\", \"STAR        2.7.11b\", \"RSEM        1.3.3\", \"salmon      0.14.1\", \"-----\"]))"
   ]
  }
 ],
 "metadata": {
  "kernelspec": {
   "display_name": "Py-3.12",
   "language": "python",
   "name": "py-3.12"
  },
  "language_info": {
   "codemirror_mode": {
    "name": "ipython",
    "version": 3
   },
   "file_extension": ".py",
   "mimetype": "text/x-python",
   "name": "python",
   "nbconvert_exporter": "python",
   "pygments_lexer": "ipython3",
   "version": "3.12.3"
  },
  "toc-autonumbering": false
 },
 "nbformat": 4,
 "nbformat_minor": 4
}
