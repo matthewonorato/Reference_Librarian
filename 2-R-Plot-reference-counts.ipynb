{
 "cells": [
  {
   "cell_type": "markdown",
   "id": "3a9ac629-1c69-4d7d-a91c-376e0624e8e1",
   "metadata": {
    "editable": true,
    "slideshow": {
     "slide_type": ""
    },
    "tags": []
   },
   "source": [
    "# Goals\n",
    "**[Script]** This script does the following:\n",
    "1. Plot gene and transcript counts across references, by chromosome, and by biotype\n",
    "2. Plot FASTA stats, such as number of ambiguous bases\n",
    "3. Plot overlapping features, such as common and distinct genes across references\n",
    "4. Write out Excel files with counts, plot links, and common and distinct features\n",
    "\n",
    "**[Overall]** Feature differences between references, such as different gene sequneces, can influence downsteam results for alignment, variant calling, and more\n",
    "\n",
    "**[To Do]**\n",
    "1. Plot overlaps with `ComplexUpset` to add bar chart (ex. validated vs. unvalidated transcripts)"
   ]
  },
  {
   "cell_type": "markdown",
   "id": "73db94a2-7553-49f7-b62b-9ed014cb26b0",
   "metadata": {},
   "source": [
    "# Packages"
   ]
  },
  {
   "cell_type": "code",
   "execution_count": 2,
   "id": "6a75017e-5260-4d02-9dd0-8862b5f1226b",
   "metadata": {
    "scrolled": true,
    "vscode": {
     "languageId": "r"
    }
   },
   "outputs": [],
   "source": [
    "#####################\n",
    "### Data Cleaning ###\n",
    "#####################\n",
    "library(\"data.table\")\n",
    "library(\"openxlsx\")\n",
    "library(\"janitor\")\n",
    "library(\"rlang\")\n",
    "\n",
    "###########\n",
    "### Viz ###\n",
    "###########\n",
    "library(\"tidyverse\")\n",
    "library(\"ggrepel\")\n",
    "library(\"UpSetR\")\n",
    "library(\"ComplexUpset\")\n",
    "\n",
    "####################\n",
    "### Session Info ###\n",
    "####################\n",
    "library(\"sessioninfo\")"
   ]
  },
  {
   "cell_type": "markdown",
   "id": "dc8398e9-0b2e-4925-83d3-717dbf45639d",
   "metadata": {},
   "source": [
    "## Options"
   ]
  },
  {
   "cell_type": "code",
   "execution_count": null,
   "id": "87adb574-17b1-4429-9d6a-b49fc58bff2a",
   "metadata": {
    "vscode": {
     "languageId": "r"
    }
   },
   "outputs": [],
   "source": [
    "options(warn = 1)\n",
    "options(repr.matrix.max.cols=200, repr.matrix.max.rows=200)\n",
    "\n",
    "theme_set(theme_bw(base_size=18, base_family=\"sans\"))"
   ]
  },
  {
   "cell_type": "markdown",
   "id": "18a7c06c-6c4a-4d38-9126-78df3da9cfe4",
   "metadata": {},
   "source": [
    "## Functions"
   ]
  },
  {
   "cell_type": "code",
   "execution_count": null,
   "id": "62bb4f6c-cb9e-4745-a1bc-860c58041e63",
   "metadata": {
    "vscode": {
     "languageId": "r"
    }
   },
   "outputs": [],
   "source": [
    "source(\"./References.R\")"
   ]
  },
  {
   "cell_type": "markdown",
   "id": "05b4d02c-35f5-4741-a2e6-3353c4c8e351",
   "metadata": {},
   "source": [
    "# Parameters"
   ]
  },
  {
   "cell_type": "markdown",
   "id": "441a24ca-ccf3-4752-9402-518932280693",
   "metadata": {},
   "source": [
    "## Inputs"
   ]
  },
  {
   "cell_type": "code",
   "execution_count": null,
   "id": "3bf10b61-552f-4f7b-966e-9e3936994cf0",
   "metadata": {
    "vscode": {
     "languageId": "r"
    }
   },
   "outputs": [],
   "source": [
    "species = \"Homo_sapiens\"  # Genus_species or species1_and_species2\n",
    "primary_chr = as.character(c(1:22,\"X\",\"Y\"))\n",
    "output_path = file.path(\"../outputs\", species)\n",
    "\n",
    "ref_names = c(\"Ensembl GRCh38\",\"RefSeq GRCh38\",\"RefSeq T2T\")  # Order in all plots\n",
    "ref_colors = c(\"#008080\",\"#DAA520\",\"#6A5ACD\")  # teal, goldenrod, slateblue (purplish)"
   ]
  },
  {
   "cell_type": "markdown",
   "id": "46126f37-9879-4725-b051-8643035ec150",
   "metadata": {},
   "source": [
    "## Outputs"
   ]
  },
  {
   "cell_type": "code",
   "execution_count": null,
   "id": "75d7d80e-c07a-4097-8255-acb2cefd77fe",
   "metadata": {
    "vscode": {
     "languageId": "r"
    }
   },
   "outputs": [],
   "source": [
    "n_refs = length(ref_names)\n",
    "\n",
    "plot_path = file.path(\"../results/plots\",species)\n",
    "dir.create(plot_path, recursive=TRUE, showWarnings=FALSE)\n",
    "\n",
    "excel_file = paste0(\"../results/Reference_counts_\", species, \".xlsx\")"
   ]
  },
  {
   "cell_type": "markdown",
   "id": "587d890b-afb2-472d-b337-e7f46ecc10f6",
   "metadata": {},
   "source": [
    "# Plot genes\n",
    "- **Note:** Since RefSeq GTF files (and ann/bed files) only have gene names, use names when comparing to Ensembl\n",
    "    - Some Ensembl genes are in more than one place (ex. DDX11L2 is on chrs 1 and 2, but ENSG IDs are unique)\n",
    "- **Note:** Since we are plotting genes **by gene name**, the overall gene counts are an underestimate (ex. no pseudogenes)\n",
    "- **QC:** Gene and transcript counts don't exactly match with [Ensembl](https://useast.ensembl.org/Homo_sapiens/Info/Annotation) and [RefSeq](https://www.ncbi.nlm.nih.gov/refseq/annotation_euk/Homo_sapiens/GCF_009914755.1-RS_2024_08/) but they are close (+/- 200 features)"
   ]
  },
  {
   "cell_type": "code",
   "execution_count": null,
   "id": "ba2456a2-c6b0-403e-b74e-df162cd20ddc",
   "metadata": {},
   "outputs": [],
   "source": [
    "# Use gene annotation files to plot gene counts and gene types\n",
    "gene_ann_paths = get_paths(ref_names, file_id=\"gene.sorted.tsv\", ref_path=output_path)\n",
    "\n",
    "df_gene = concat_files(gene_ann_paths, ref_names, ref_colors, to_chr=primary_chr)\n",
    "\n",
    "dim(df_gene)\n",
    "head(df_gene, n=3)"
   ]
  },
  {
   "cell_type": "markdown",
   "id": "f83186c8-8d89-412b-a8a3-7867437e0c05",
   "metadata": {},
   "source": [
    "## Genes per reference"
   ]
  },
  {
   "cell_type": "code",
   "execution_count": null,
   "id": "0394578e-6376-4067-951b-3dd70cd62645",
   "metadata": {
    "vscode": {
     "languageId": "r"
    }
   },
   "outputs": [],
   "source": [
    "df_unique_genes = get_unique_feats(df_gene, \"gene_name\")\n",
    "df_total_genes = get_totals(df_unique_genes)\n",
    "\n",
    "fig_gene = plot_ref_counts(\n",
    "    df_total_genes,\n",
    "    title_text = paste(\"Total gene counts in\",n_refs,\"reference genomes\"),\n",
    "    subtitle_text = \"RefSeq GRCh38 has the most genes (by name)\",\n",
    "    out_file = file.path(plot_path, \"gene_counts_per_reference.png\"),\n",
    "    w=6, h=3\n",
    ")\n",
    "\n",
    "IRdisplay::display_html(paste0(\"<img src=\",fig_gene$path, \">\"))"
   ]
  },
  {
   "cell_type": "markdown",
   "id": "553adefb-4e44-4e02-8672-db41725c6431",
   "metadata": {},
   "source": [
    "## Genes per chromosome"
   ]
  },
  {
   "cell_type": "code",
   "execution_count": null,
   "id": "8f1d7bb2-3543-42f4-b888-1cf596026137",
   "metadata": {
    "scrolled": true,
    "vscode": {
     "languageId": "r"
    }
   },
   "outputs": [],
   "source": [
    "df_chr_genes = get_totals_per_chr(df_unique_genes)\n",
    "\n",
    "fig_gene_chr = plot_ref_counts(\n",
    "    df_chr_genes,\n",
    "    title_text = paste(\"Gene counts per chromosome in\",n_refs,\"reference genomes\"),\n",
    "    subtitle_text = \"Chr1 has the most genes; RefSeq T2T has the best resolution on chrY\",\n",
    "    out_file = file.path(plot_path, \"gene_counts_per_chr.png\"),\n",
    "    w=9, h=9\n",
    ")\n",
    "\n",
    "IRdisplay::display_html(paste0(\"<img src=\",fig_gene_chr$path, \">\"))"
   ]
  },
  {
   "cell_type": "markdown",
   "id": "33bc12ad-d964-44d2-a575-5c2c270602b1",
   "metadata": {},
   "source": [
    "## Gene types"
   ]
  },
  {
   "cell_type": "code",
   "execution_count": null,
   "id": "994146dd-f34b-4512-a0ad-8cc73dd3753a",
   "metadata": {
    "vscode": {
     "languageId": "r"
    }
   },
   "outputs": [],
   "source": [
    "df_total_gene_types = get_totals_per_type(df_unique_genes, \"gene_name\", types_to_plot=c(\"protein_coding\"))\n",
    "\n",
    "fig_gene_type = plot_ref_counts(\n",
    "    df_total_gene_types,\n",
    "    title_text = paste(\"Protein-coding genes in\",n_refs,\"reference genomes\"),\n",
    "    subtitle_text = \"QC: Counts almost match those on websites\",\n",
    "    out_file = file.path(plot_path, \"gene_types_per_reference.png\"),\n",
    "    w=6, h=3\n",
    ")\n",
    "\n",
    "IRdisplay::display_html(paste0(\"<img src=\",fig_gene_type$path, \">\"))"
   ]
  },
  {
   "cell_type": "markdown",
   "id": "bdc286c5-7762-45af-860f-303c1ccf5e0f",
   "metadata": {},
   "source": [
    "# Plot transcripts\n",
    "- **Note:** Since we are plotting transcripts *by transcript ID*, the overall counts should be accurate"
   ]
  },
  {
   "cell_type": "code",
   "execution_count": null,
   "id": "d6192067-d0d8-40a9-95bd-6662e8459866",
   "metadata": {},
   "outputs": [],
   "source": [
    "# Use transcript annotation files to plot transcript counts and types\n",
    "tx_ann_paths = get_paths(ref_names, file_id=\"transcript.sorted.tsv\", ref_path=output_path)\n",
    "\n",
    "df_tx = concat_files(tx_ann_paths, ref_names, ref_colors, to_chr=primary_chr)\n",
    "\n",
    "dim(df_tx)\n",
    "head(df_tx, n=3)"
   ]
  },
  {
   "cell_type": "markdown",
   "id": "17cc9b21-fc20-4d8a-9c08-3e787a3b3389",
   "metadata": {},
   "source": [
    "## Transcripts per reference"
   ]
  },
  {
   "cell_type": "code",
   "execution_count": null,
   "id": "bb82b62a-245b-40f3-b4c4-5978f886aeb8",
   "metadata": {
    "vscode": {
     "languageId": "r"
    }
   },
   "outputs": [],
   "source": [
    "df_unique_tx = get_unique_feats(df_tx, \"transcript_id\") %>%\n",
    "    mutate(transcript_biotype = recode(\n",
    "        transcript_biotype, \"mRNA\" = \"protein_coding\", \"lnc_RNA\" = \"lncRNA\"))\n",
    "\n",
    "df_total_tx = get_totals(df_unique_tx)\n",
    "\n",
    "fig_tx = plot_ref_counts(\n",
    "    df_total_tx,\n",
    "    title_text = paste(\"Total transcripts in\",n_refs,\"reference genomes\"),\n",
    "    subtitle_text = \"Ensembl GRCh38 has the most transcripts\",\n",
    "    out_file = file.path(plot_path, \"transcript_counts_per_reference.png\"),\n",
    "    w=6, h=3\n",
    ")\n",
    "\n",
    "IRdisplay::display_html(paste0(\"<img src=\",fig_tx$path, \">\"))"
   ]
  },
  {
   "cell_type": "markdown",
   "id": "fd8ed53c-d4be-420f-bb17-679d3fe35851",
   "metadata": {},
   "source": [
    "## Transcripts per chromosome"
   ]
  },
  {
   "cell_type": "code",
   "execution_count": null,
   "id": "4b375c68-d050-4f62-a4ec-a5bfecd49bc0",
   "metadata": {
    "scrolled": true,
    "vscode": {
     "languageId": "r"
    }
   },
   "outputs": [],
   "source": [
    "df_chr_tx = get_totals_per_chr(df_unique_tx)\n",
    "\n",
    "fig_tx_chr = plot_ref_counts(\n",
    "    df_chr_tx,\n",
    "    title_text = paste(\"Transcripts per chromosome in\",n_refs,\"reference genomes\"),\n",
    "    subtitle_text = \"Chr1 has the most transcripts; RefSeq T2T has the best resolution on chrY\",\n",
    "    out_file = file.path(plot_path, \"transcript_counts_per_chr.png\"),\n",
    "    w=9, h=9\n",
    ")\n",
    "\n",
    "IRdisplay::display_html(paste0(\"<img src=\",fig_tx_chr$path, \">\"))"
   ]
  },
  {
   "cell_type": "markdown",
   "id": "2a8ea22e-8314-4e8c-8285-26052586f3ba",
   "metadata": {},
   "source": [
    "## Transcript types"
   ]
  },
  {
   "cell_type": "code",
   "execution_count": null,
   "id": "b174ecc9-a21c-48a6-ab5b-f0cded597fec",
   "metadata": {
    "scrolled": true,
    "vscode": {
     "languageId": "r"
    }
   },
   "outputs": [],
   "source": [
    "df_total_tx_types = get_totals_per_type(df_unique_tx, \"transcript_id\", types_to_plot=c(\"protein_coding\"))\n",
    "\n",
    "fig_tx_type = plot_ref_counts(\n",
    "    df_total_tx_types,\n",
    "    title_text = paste(\"Protein-coding transcripts in\",n_refs,\"reference genomes\"),\n",
    "    subtitle_text = \"Ensembl has less protein-coding due to more lncRNA (not shown)\",\n",
    "    out_file = file.path(plot_path, \"transcript_types_per_reference.png\"),\n",
    "    w=6, h=3\n",
    ")\n",
    "\n",
    "IRdisplay::display_html(paste0(\"<img src=\",fig_tx_type$path, \">\"))"
   ]
  },
  {
   "cell_type": "markdown",
   "id": "363a71ae-c10d-44b6-a14f-8904606c8ed7",
   "metadata": {},
   "source": [
    "# Plot FASTA stats\n",
    "- Plot number of ambiguous bases *found in primary assemblies*, since this is a proxy for overall FASTA quality\n",
    "    - `sum_n`: Column containing number of ambiguous letters found in a FASTA file (ex. N, X, K)\n",
    "    - Note: Additional FASTA files and stats can be plotted by updating filter logic (sum_len) and count column (sum_n)"
   ]
  },
  {
   "cell_type": "code",
   "execution_count": null,
   "id": "6cdf258f-c509-430e-af19-7b50fc50af57",
   "metadata": {
    "vscode": {
     "languageId": "r"
    }
   },
   "outputs": [],
   "source": [
    "stats_paths = get_paths(ref_names, file_id=\"fasta_stats.tsv\", ref_path=output_path)\n",
    "\n",
    "df_amb_bases = concat_fasta_stats(stats_paths, ref_names, ref_colors)\n",
    "\n",
    "fig_stats = plot_ref_counts(\n",
    "    df_amb_bases,\n",
    "    title_text = paste(\"Total ambiguous bases (N,X) in\",n_refs,\"reference genomes\"),\n",
    "    subtitle_text = \"RefSeq T2T has by far the best annotation\",\n",
    "    out_file = file.path(plot_path, \"ambigous_bases_per_reference.png\"),\n",
    "    w=6, h=3\n",
    ")\n",
    "\n",
    "IRdisplay::display_html(paste0(\"<img src=\",fig_stats$path, \">\"))"
   ]
  },
  {
   "cell_type": "markdown",
   "id": "ae0ba5ea-d272-407e-bae9-4c6c7506340e",
   "metadata": {},
   "source": [
    "# Plot overlapping features"
   ]
  },
  {
   "cell_type": "code",
   "execution_count": null,
   "id": "8886deea-0780-4f8a-b65f-126b351dce1a",
   "metadata": {},
   "outputs": [],
   "source": [
    "df_gene_binary = get_intersections(df_unique_genes)\n",
    "fig_gene_overlap = plot_common_features(df_gene_binary, \"gene_name\")\n",
    "IRdisplay::display_html(paste0(\"<img src=\",fig_gene_overlap$path, \">\"))"
   ]
  },
  {
   "cell_type": "code",
   "execution_count": null,
   "id": "31840b2c-7538-4d4c-904e-e554f1200b39",
   "metadata": {},
   "outputs": [],
   "source": [
    "# Find overlapping transcripts for RefSeq references, since Ensembl uses a different ID\n",
    "df_refseq_unique_tx = df_unique_tx %>% filter(ref_name %in% c(\"RefSeq GRCh38\",\"RefSeq T2T\"))\n",
    "\n",
    "df_tx_binary = get_intersections(df_refseq_unique_tx)\n",
    "fig_tx_overlap = plot_common_features(df_tx_binary, \"transcript_id\")\n",
    "IRdisplay::display_html(paste0(\"<img src=\",fig_tx_overlap$path, \">\"))"
   ]
  },
  {
   "cell_type": "markdown",
   "id": "ec24effe-c13d-4a38-8de6-6061d4a47b2c",
   "metadata": {},
   "source": [
    "# Write out"
   ]
  },
  {
   "cell_type": "code",
   "execution_count": null,
   "id": "521079bd-0c99-4a34-8436-9cd629ffca97",
   "metadata": {},
   "outputs": [],
   "source": [
    "# Sheet for total counts\n",
    "df_counts = list(df_total_genes %>% select(ref_name, Count) %>% rename(total_genes = Count),\n",
    "                 df_total_gene_types %>% select(ref_name, Count) %>% rename(total_protein_coding_genes = Count),\n",
    "                 df_total_tx %>% select(ref_name, Count) %>% rename(total_transcripts = Count),\n",
    "                 df_total_tx_types %>% select(ref_name, Count) %>% rename(total_protein_coding_transcripts = Count),\n",
    "                 df_amb_bases %>% select(ref_name, Count) %>% rename(total_ambiguous_bases = Count)) %>%\n",
    "    reduce(full_join, by=c(\"ref_name\"))\n",
    "\n",
    "plot_links = gsub(\"../results/\",\"\", c(fig_gene$path, fig_gene_type$path, fig_tx$path, fig_tx_type$path, fig_stats$path))\n",
    "plot_links = c(c(\"Plot Links\"), paste0('=HYPERLINK(\"',plot_links,'\",\"Link\")'))\n",
    "\n",
    "wb_1 = create_excel_tab(\n",
    "    df_counts,\n",
    "    tab_name = \"All Primaries\",\n",
    "    out_file = NULL,\n",
    "    prev_workbook = NULL,\n",
    "    template_file = NULL,\n",
    "    plot_col = NULL,\n",
    "    plot_row = plot_links,\n",
    "    freeze_cell = c(1,2),\n",
    "    header_color = \"#F7FFBF\"\n",
    ")"
   ]
  },
  {
   "cell_type": "code",
   "execution_count": null,
   "id": "1eab8c06-8dd6-4b67-a6fe-dcb2cd063d56",
   "metadata": {
    "vscode": {
     "languageId": "r"
    }
   },
   "outputs": [],
   "source": [
    "# Sheet for chromosome counts\n",
    "df_counts_chr = list(df_chr_genes %>% select(ref_name, chr, Count) %>% rename(total_genes = Count),\n",
    "                     df_chr_tx %>% select(ref_name, chr, Count) %>% rename(total_transcripts = Count)) %>%\n",
    "    reduce(full_join, by=c(\"ref_name\", \"chr\")) %>%\n",
    "    arrange(match(chr, primary_chr)) %>%\n",
    "    mutate(ref_name=as.character(ref_name), chr=as.character(chr))\n",
    "\n",
    "plot_links_chr = gsub(\"../results/\",\"\", c(fig_gene_chr$path ,fig_tx_chr$path))\n",
    "plot_links_chr = c(c(\"Plot Links\", \"By Chromosome\"), paste0('=HYPERLINK(\"',plot_links_chr,'\",\"Link\")'))\n",
    "\n",
    "wb_2 = create_excel_tab(\n",
    "    df_counts_chr,\n",
    "    tab_name = \"By Chromosome\",\n",
    "    out_file = NULL,\n",
    "    prev_workbook = wb_1,\n",
    "    template_file = NULL,\n",
    "    plot_col = NULL,\n",
    "    plot_row = plot_links_chr,\n",
    "    freeze_cell = c(1,2),\n",
    "    header_color = \"#F7FFBF\"\n",
    ")"
   ]
  },
  {
   "cell_type": "code",
   "execution_count": null,
   "id": "2c31ba72-cbff-4b2a-a1bf-91276b8f6dc4",
   "metadata": {},
   "outputs": [],
   "source": [
    "# Sheet for overlapping genes and transcripts\n",
    "overlap_gene_lists = upset_data(df_gene_binary, intersect=colnames(df_gene_binary))\n",
    "intersect_gene_list = overlap_gene_lists$sizes$exclusive_intersection\n",
    "df_gene_overlap = tibble(intersection=names(intersect_gene_list), common_gene_names=intersect_gene_list)\n",
    "\n",
    "overlap_tx_lists = upset_data(df_tx_binary, intersect=colnames(df_tx_binary))\n",
    "intersect_tx_list = overlap_tx_lists$sizes$exclusive_intersection\n",
    "df_tx_overlap = tibble(intersection=names(intersect_tx_list), common_transcript_ids=intersect_tx_list)\n",
    "\n",
    "df_overlap = full_join(df_gene_overlap, df_tx_overlap, by=\"intersection\") %>% replace(is.na(.), 0)\n",
    "\n",
    "plot_links_overlap = gsub(\"../results/\",\"\", c(fig_gene_overlap$path, fig_tx_overlap$path))\n",
    "plot_links_overlap = c(c(\"Plot Links\"), paste0('=HYPERLINK(\"',plot_links_overlap,'\",\"Link\")'))\n",
    "\n",
    "wb_3 = create_excel_tab(\n",
    "    df_overlap,\n",
    "    tab_name = \"By Features\",\n",
    "    out_file = NULL,\n",
    "    prev_workbook = wb_2,\n",
    "    template_file = NULL,\n",
    "    plot_col = NULL,\n",
    "    plot_row = plot_links_overlap,\n",
    "    freeze_cell = c(1,2),\n",
    "    header_color = \"#F7FFBF\"\n",
    ")"
   ]
  },
  {
   "cell_type": "code",
   "execution_count": null,
   "id": "03a55a35-1585-4933-b4d7-5bef54650f0e",
   "metadata": {},
   "outputs": [],
   "source": [
    "df_common_genes = summarize_common_features(df_unique_genes) %>% rename(gene_name = feat_id)\n",
    "\n",
    "wb_4 = create_excel_tab(\n",
    "    df_common_genes,\n",
    "    tab_name = \"Common Genes\",\n",
    "    out_file = NULL,\n",
    "    prev_workbook = wb_3,\n",
    "    template_file = NULL,\n",
    "    plot_col = NULL,\n",
    "    plot_row = NULL,\n",
    "    freeze_cell = c(1,2),\n",
    "    header_color = \"#F7FFBF\"\n",
    ")"
   ]
  },
  {
   "cell_type": "code",
   "execution_count": null,
   "id": "19027d9c-1d44-41b1-bb81-e1725a83f594",
   "metadata": {},
   "outputs": [],
   "source": [
    "df_common_tx = summarize_common_features(df_refseq_unique_tx) %>% rename(transcript_id = feat_id)\n",
    "\n",
    "wb_5 = create_excel_tab(\n",
    "    df_common_tx,\n",
    "    tab_name = \"Common Transcripts\",\n",
    "    out_file = excel_file,\n",
    "    prev_workbook = wb_4,\n",
    "    template_file = NULL,\n",
    "    plot_col = NULL,\n",
    "    plot_row = NULL,\n",
    "    freeze_cell = c(1,2),\n",
    "    header_color = \"#F7FFBF\"\n",
    ")"
   ]
  },
  {
   "cell_type": "markdown",
   "id": "8c95ccca-7b06-4f7d-8049-938e7cf4e7cd",
   "metadata": {},
   "source": [
    "# Session info"
   ]
  },
  {
   "cell_type": "code",
   "execution_count": 3,
   "id": "a5623fbc-8c62-4d9f-981a-93438546d5d4",
   "metadata": {
    "vscode": {
     "languageId": "r"
    }
   },
   "outputs": [
    {
     "data": {
      "text/html": [
       "<table class=\"dataframe\">\n",
       "<caption>A tibble: 1 × 4</caption>\n",
       "<thead>\n",
       "\t<tr><th scope=col>version</th><th scope=col>os</th><th scope=col>system</th><th scope=col>date</th></tr>\n",
       "\t<tr><th scope=col>&lt;chr&gt;</th><th scope=col>&lt;chr&gt;</th><th scope=col>&lt;chr&gt;</th><th scope=col>&lt;chr&gt;</th></tr>\n",
       "</thead>\n",
       "<tbody>\n",
       "\t<tr><td>R version 4.4.0 (2024-04-24)</td><td>Ubuntu 22.04.4 LTS</td><td>x86_64, linux-gnu</td><td>2025-08-11</td></tr>\n",
       "</tbody>\n",
       "</table>\n"
      ],
      "text/latex": [
       "A tibble: 1 × 4\n",
       "\\begin{tabular}{llll}\n",
       " version & os & system & date\\\\\n",
       " <chr> & <chr> & <chr> & <chr>\\\\\n",
       "\\hline\n",
       "\t R version 4.4.0 (2024-04-24) & Ubuntu 22.04.4 LTS & x86\\_64, linux-gnu & 2025-08-11\\\\\n",
       "\\end{tabular}\n"
      ],
      "text/markdown": [
       "\n",
       "A tibble: 1 × 4\n",
       "\n",
       "| version &lt;chr&gt; | os &lt;chr&gt; | system &lt;chr&gt; | date &lt;chr&gt; |\n",
       "|---|---|---|---|\n",
       "| R version 4.4.0 (2024-04-24) | Ubuntu 22.04.4 LTS | x86_64, linux-gnu | 2025-08-11 |\n",
       "\n"
      ],
      "text/plain": [
       "  version                      os                 system            date      \n",
       "1 R version 4.4.0 (2024-04-24) Ubuntu 22.04.4 LTS x86_64, linux-gnu 2025-08-11"
      ]
     },
     "metadata": {},
     "output_type": "display_data"
    },
    {
     "data": {
      "text/html": [
       "<table class=\"dataframe\">\n",
       "<caption>A tibble: 18 × 2</caption>\n",
       "<thead>\n",
       "\t<tr><th scope=col>package</th><th scope=col>loadedversion</th></tr>\n",
       "\t<tr><th scope=col>&lt;chr&gt;</th><th scope=col>&lt;chr&gt;</th></tr>\n",
       "</thead>\n",
       "<tbody>\n",
       "\t<tr><td>ComplexUpset</td><td>1.3.3  </td></tr>\n",
       "\t<tr><td>data.table  </td><td>1.15.0 </td></tr>\n",
       "\t<tr><td>dplyr       </td><td>1.1.4  </td></tr>\n",
       "\t<tr><td>forcats     </td><td>1.0.0  </td></tr>\n",
       "\t<tr><td>ggplot2     </td><td>3.5.1  </td></tr>\n",
       "\t<tr><td>ggrepel     </td><td>0.9.6  </td></tr>\n",
       "\t<tr><td>janitor     </td><td>2.2.0  </td></tr>\n",
       "\t<tr><td>lubridate   </td><td>1.9.3  </td></tr>\n",
       "\t<tr><td>openxlsx    </td><td>4.2.7.1</td></tr>\n",
       "\t<tr><td>purrr       </td><td>1.0.2  </td></tr>\n",
       "\t<tr><td>readr       </td><td>2.1.5  </td></tr>\n",
       "\t<tr><td>rlang       </td><td>1.1.5  </td></tr>\n",
       "\t<tr><td>sessioninfo </td><td>1.2.3  </td></tr>\n",
       "\t<tr><td>stringr     </td><td>1.5.1  </td></tr>\n",
       "\t<tr><td>tibble      </td><td>3.2.1  </td></tr>\n",
       "\t<tr><td>tidyr       </td><td>1.3.1  </td></tr>\n",
       "\t<tr><td>tidyverse   </td><td>2.0.0  </td></tr>\n",
       "\t<tr><td>UpSetR      </td><td>1.4.0  </td></tr>\n",
       "</tbody>\n",
       "</table>\n"
      ],
      "text/latex": [
       "A tibble: 18 × 2\n",
       "\\begin{tabular}{ll}\n",
       " package & loadedversion\\\\\n",
       " <chr> & <chr>\\\\\n",
       "\\hline\n",
       "\t ComplexUpset & 1.3.3  \\\\\n",
       "\t data.table   & 1.15.0 \\\\\n",
       "\t dplyr        & 1.1.4  \\\\\n",
       "\t forcats      & 1.0.0  \\\\\n",
       "\t ggplot2      & 3.5.1  \\\\\n",
       "\t ggrepel      & 0.9.6  \\\\\n",
       "\t janitor      & 2.2.0  \\\\\n",
       "\t lubridate    & 1.9.3  \\\\\n",
       "\t openxlsx     & 4.2.7.1\\\\\n",
       "\t purrr        & 1.0.2  \\\\\n",
       "\t readr        & 2.1.5  \\\\\n",
       "\t rlang        & 1.1.5  \\\\\n",
       "\t sessioninfo  & 1.2.3  \\\\\n",
       "\t stringr      & 1.5.1  \\\\\n",
       "\t tibble       & 3.2.1  \\\\\n",
       "\t tidyr        & 1.3.1  \\\\\n",
       "\t tidyverse    & 2.0.0  \\\\\n",
       "\t UpSetR       & 1.4.0  \\\\\n",
       "\\end{tabular}\n"
      ],
      "text/markdown": [
       "\n",
       "A tibble: 18 × 2\n",
       "\n",
       "| package &lt;chr&gt; | loadedversion &lt;chr&gt; |\n",
       "|---|---|\n",
       "| ComplexUpset | 1.3.3   |\n",
       "| data.table   | 1.15.0  |\n",
       "| dplyr        | 1.1.4   |\n",
       "| forcats      | 1.0.0   |\n",
       "| ggplot2      | 3.5.1   |\n",
       "| ggrepel      | 0.9.6   |\n",
       "| janitor      | 2.2.0   |\n",
       "| lubridate    | 1.9.3   |\n",
       "| openxlsx     | 4.2.7.1 |\n",
       "| purrr        | 1.0.2   |\n",
       "| readr        | 2.1.5   |\n",
       "| rlang        | 1.1.5   |\n",
       "| sessioninfo  | 1.2.3   |\n",
       "| stringr      | 1.5.1   |\n",
       "| tibble       | 3.2.1   |\n",
       "| tidyr        | 1.3.1   |\n",
       "| tidyverse    | 2.0.0   |\n",
       "| UpSetR       | 1.4.0   |\n",
       "\n"
      ],
      "text/plain": [
       "   package      loadedversion\n",
       "1  ComplexUpset 1.3.3        \n",
       "2  data.table   1.15.0       \n",
       "3  dplyr        1.1.4        \n",
       "4  forcats      1.0.0        \n",
       "5  ggplot2      3.5.1        \n",
       "6  ggrepel      0.9.6        \n",
       "7  janitor      2.2.0        \n",
       "8  lubridate    1.9.3        \n",
       "9  openxlsx     4.2.7.1      \n",
       "10 purrr        1.0.2        \n",
       "11 readr        2.1.5        \n",
       "12 rlang        1.1.5        \n",
       "13 sessioninfo  1.2.3        \n",
       "14 stringr      1.5.1        \n",
       "15 tibble       3.2.1        \n",
       "16 tidyr        1.3.1        \n",
       "17 tidyverse    2.0.0        \n",
       "18 UpSetR       1.4.0        "
      ]
     },
     "metadata": {},
     "output_type": "display_data"
    }
   ],
   "source": [
    "si = session_info(pkg=\"attached\", to_file=FALSE)\n",
    "as_tibble(si$platform) %>% select(version, os, system, date)\n",
    "as_tibble(si$packages) %>% select(package, loadedversion)"
   ]
  }
 ],
 "metadata": {
  "kernelspec": {
   "display_name": "R 4.4",
   "language": "R",
   "name": "r-4.4"
  },
  "language_info": {
   "codemirror_mode": "r",
   "file_extension": ".r",
   "mimetype": "text/x-r-source",
   "name": "R",
   "pygments_lexer": "r",
   "version": "4.4.0"
  }
 },
 "nbformat": 4,
 "nbformat_minor": 5
}
